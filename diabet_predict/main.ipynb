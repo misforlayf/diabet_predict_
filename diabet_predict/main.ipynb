{
 "cells": [
  {
   "cell_type": "code",
   "execution_count": 22,
   "metadata": {},
   "outputs": [],
   "source": [
    "from tensorflow.keras.layers import Dense, Dropout, Input\n",
    "from tensorflow.keras.models import Sequential\n",
    "from tensorflow.keras.optimizers import Adam\n",
    "from tensorflow.keras.callbacks import EarlyStopping\n",
    "import pandas as pd"
   ]
  },
  {
   "cell_type": "code",
   "execution_count": 9,
   "metadata": {},
   "outputs": [],
   "source": [
    "df = pd.read_csv(\"diabetes.csv\")"
   ]
  },
  {
   "cell_type": "code",
   "execution_count": 11,
   "metadata": {},
   "outputs": [
    {
     "data": {
      "text/html": [
       "<div>\n",
       "<style scoped>\n",
       "    .dataframe tbody tr th:only-of-type {\n",
       "        vertical-align: middle;\n",
       "    }\n",
       "\n",
       "    .dataframe tbody tr th {\n",
       "        vertical-align: top;\n",
       "    }\n",
       "\n",
       "    .dataframe thead th {\n",
       "        text-align: right;\n",
       "    }\n",
       "</style>\n",
       "<table border=\"1\" class=\"dataframe\">\n",
       "  <thead>\n",
       "    <tr style=\"text-align: right;\">\n",
       "      <th></th>\n",
       "      <th>Pregnancies</th>\n",
       "      <th>Glucose</th>\n",
       "      <th>BloodPressure</th>\n",
       "      <th>SkinThickness</th>\n",
       "      <th>Insulin</th>\n",
       "      <th>BMI</th>\n",
       "      <th>DiabetesPedigreeFunction</th>\n",
       "      <th>Age</th>\n",
       "      <th>Outcome</th>\n",
       "    </tr>\n",
       "  </thead>\n",
       "  <tbody>\n",
       "    <tr>\n",
       "      <th>0</th>\n",
       "      <td>6</td>\n",
       "      <td>148</td>\n",
       "      <td>72</td>\n",
       "      <td>35</td>\n",
       "      <td>0</td>\n",
       "      <td>33.6</td>\n",
       "      <td>0.627</td>\n",
       "      <td>50</td>\n",
       "      <td>1</td>\n",
       "    </tr>\n",
       "    <tr>\n",
       "      <th>1</th>\n",
       "      <td>1</td>\n",
       "      <td>85</td>\n",
       "      <td>66</td>\n",
       "      <td>29</td>\n",
       "      <td>0</td>\n",
       "      <td>26.6</td>\n",
       "      <td>0.351</td>\n",
       "      <td>31</td>\n",
       "      <td>0</td>\n",
       "    </tr>\n",
       "    <tr>\n",
       "      <th>2</th>\n",
       "      <td>8</td>\n",
       "      <td>183</td>\n",
       "      <td>64</td>\n",
       "      <td>0</td>\n",
       "      <td>0</td>\n",
       "      <td>23.3</td>\n",
       "      <td>0.672</td>\n",
       "      <td>32</td>\n",
       "      <td>1</td>\n",
       "    </tr>\n",
       "    <tr>\n",
       "      <th>3</th>\n",
       "      <td>1</td>\n",
       "      <td>89</td>\n",
       "      <td>66</td>\n",
       "      <td>23</td>\n",
       "      <td>94</td>\n",
       "      <td>28.1</td>\n",
       "      <td>0.167</td>\n",
       "      <td>21</td>\n",
       "      <td>0</td>\n",
       "    </tr>\n",
       "    <tr>\n",
       "      <th>4</th>\n",
       "      <td>0</td>\n",
       "      <td>137</td>\n",
       "      <td>40</td>\n",
       "      <td>35</td>\n",
       "      <td>168</td>\n",
       "      <td>43.1</td>\n",
       "      <td>2.288</td>\n",
       "      <td>33</td>\n",
       "      <td>1</td>\n",
       "    </tr>\n",
       "  </tbody>\n",
       "</table>\n",
       "</div>"
      ],
      "text/plain": [
       "   Pregnancies  Glucose  BloodPressure  SkinThickness  Insulin   BMI  \\\n",
       "0            6      148             72             35        0  33.6   \n",
       "1            1       85             66             29        0  26.6   \n",
       "2            8      183             64              0        0  23.3   \n",
       "3            1       89             66             23       94  28.1   \n",
       "4            0      137             40             35      168  43.1   \n",
       "\n",
       "   DiabetesPedigreeFunction  Age  Outcome  \n",
       "0                     0.627   50        1  \n",
       "1                     0.351   31        0  \n",
       "2                     0.672   32        1  \n",
       "3                     0.167   21        0  \n",
       "4                     2.288   33        1  "
      ]
     },
     "execution_count": 11,
     "metadata": {},
     "output_type": "execute_result"
    }
   ],
   "source": [
    "df.head()"
   ]
  },
  {
   "cell_type": "code",
   "execution_count": 12,
   "metadata": {},
   "outputs": [
    {
     "name": "stdout",
     "output_type": "stream",
     "text": [
      "<class 'pandas.core.frame.DataFrame'>\n",
      "RangeIndex: 768 entries, 0 to 767\n",
      "Data columns (total 9 columns):\n",
      " #   Column                    Non-Null Count  Dtype  \n",
      "---  ------                    --------------  -----  \n",
      " 0   Pregnancies               768 non-null    int64  \n",
      " 1   Glucose                   768 non-null    int64  \n",
      " 2   BloodPressure             768 non-null    int64  \n",
      " 3   SkinThickness             768 non-null    int64  \n",
      " 4   Insulin                   768 non-null    int64  \n",
      " 5   BMI                       768 non-null    float64\n",
      " 6   DiabetesPedigreeFunction  768 non-null    float64\n",
      " 7   Age                       768 non-null    int64  \n",
      " 8   Outcome                   768 non-null    int64  \n",
      "dtypes: float64(2), int64(7)\n",
      "memory usage: 54.1 KB\n"
     ]
    }
   ],
   "source": [
    "df.info()"
   ]
  },
  {
   "cell_type": "code",
   "execution_count": 15,
   "metadata": {},
   "outputs": [],
   "source": [
    "from sklearn.model_selection import train_test_split"
   ]
  },
  {
   "cell_type": "code",
   "execution_count": 16,
   "metadata": {},
   "outputs": [],
   "source": [
    "X = df[[\"Pregnancies\",\"Glucose\", \"BloodPressure\", \"Insulin\", \"Age\"]]\n",
    "y = df[\"Outcome\"]"
   ]
  },
  {
   "cell_type": "code",
   "execution_count": 17,
   "metadata": {},
   "outputs": [],
   "source": [
    "X_train,X_test,y_train,y_test = train_test_split(X,y, random_state=16, test_size=0.2)"
   ]
  },
  {
   "cell_type": "code",
   "execution_count": 20,
   "metadata": {},
   "outputs": [
    {
     "data": {
      "text/plain": [
       "171    1\n",
       "222    0\n",
       "565    0\n",
       "576    0\n",
       "152    1\n",
       "      ..\n",
       "321    1\n",
       "581    0\n",
       "121    0\n",
       "238    1\n",
       "681    1\n",
       "Name: Outcome, Length: 614, dtype: int64"
      ]
     },
     "execution_count": 20,
     "metadata": {},
     "output_type": "execute_result"
    }
   ],
   "source": [
    "y_train"
   ]
  },
  {
   "cell_type": "code",
   "execution_count": 39,
   "metadata": {},
   "outputs": [],
   "source": [
    "del model"
   ]
  },
  {
   "cell_type": "code",
   "execution_count": 40,
   "metadata": {},
   "outputs": [],
   "source": [
    "model = Sequential()"
   ]
  },
  {
   "cell_type": "code",
   "execution_count": 41,
   "metadata": {},
   "outputs": [],
   "source": [
    "# Input Layers\n",
    "model.add(Input(shape=X_train.shape[1]))\n",
    "\n",
    "# Hidden Layers\n",
    "model.add(Dense(50, activation=\"relu\"))\n",
    "model.add(Dropout(0.2))\n",
    "\n",
    "model.add(Dense(25, activation=\"relu\"))\n",
    "model.add(Dropout(0.1))\n",
    "\n",
    "model.add(Dense(10, activation=\"relu\", use_bias=False))\n",
    "\n",
    "# Output Layers\n",
    "model.add(Dense(1))"
   ]
  },
  {
   "cell_type": "code",
   "execution_count": 42,
   "metadata": {},
   "outputs": [
    {
     "name": "stdout",
     "output_type": "stream",
     "text": [
      "Model: \"sequential_1\"\n",
      "_________________________________________________________________\n",
      " Layer (type)                Output Shape              Param #   \n",
      "=================================================================\n",
      " dense_4 (Dense)             (None, 50)                300       \n",
      "                                                                 \n",
      " dropout_2 (Dropout)         (None, 50)                0         \n",
      "                                                                 \n",
      " dense_5 (Dense)             (None, 25)                1275      \n",
      "                                                                 \n",
      " dropout_3 (Dropout)         (None, 25)                0         \n",
      "                                                                 \n",
      " dense_6 (Dense)             (None, 10)                250       \n",
      "                                                                 \n",
      " dense_7 (Dense)             (None, 1)                 11        \n",
      "                                                                 \n",
      "=================================================================\n",
      "Total params: 1836 (7.17 KB)\n",
      "Trainable params: 1836 (7.17 KB)\n",
      "Non-trainable params: 0 (0.00 Byte)\n",
      "_________________________________________________________________\n"
     ]
    }
   ],
   "source": [
    "model.summary()"
   ]
  },
  {
   "cell_type": "code",
   "execution_count": 43,
   "metadata": {},
   "outputs": [],
   "source": [
    "import tensorflow as tf"
   ]
  },
  {
   "cell_type": "code",
   "execution_count": 44,
   "metadata": {},
   "outputs": [],
   "source": [
    "model.compile(optimizer=Adam(), loss=tf.keras.losses.MeanAbsoluteError(), metrics=[tf.keras.metrics.MeanSquaredError()])"
   ]
  },
  {
   "cell_type": "code",
   "execution_count": 45,
   "metadata": {},
   "outputs": [],
   "source": [
    "stop = EarlyStopping(monitor=\"val_loss\", verbose=1, patience=25, min_delta=3)"
   ]
  },
  {
   "cell_type": "code",
   "execution_count": 46,
   "metadata": {},
   "outputs": [
    {
     "name": "stdout",
     "output_type": "stream",
     "text": [
      "Epoch 1/250\n"
     ]
    },
    {
     "name": "stdout",
     "output_type": "stream",
     "text": [
      "16/16 [==============================] - 1s 23ms/step - loss: 4.6280 - mean_squared_error: 45.6930 - val_loss: 1.6996 - val_mean_squared_error: 3.6225\n",
      "Epoch 2/250\n",
      "16/16 [==============================] - 0s 4ms/step - loss: 2.4449 - mean_squared_error: 12.4248 - val_loss: 1.1573 - val_mean_squared_error: 2.0314\n",
      "Epoch 3/250\n",
      "16/16 [==============================] - 0s 4ms/step - loss: 1.9893 - mean_squared_error: 9.9700 - val_loss: 0.9251 - val_mean_squared_error: 1.1033\n",
      "Epoch 4/250\n",
      "16/16 [==============================] - 0s 9ms/step - loss: 1.4753 - mean_squared_error: 5.3369 - val_loss: 0.5557 - val_mean_squared_error: 0.5213\n",
      "Epoch 5/250\n",
      "16/16 [==============================] - 0s 9ms/step - loss: 1.0438 - mean_squared_error: 2.6872 - val_loss: 0.4225 - val_mean_squared_error: 0.3184\n",
      "Epoch 6/250\n",
      "16/16 [==============================] - 0s 6ms/step - loss: 0.8073 - mean_squared_error: 1.7833 - val_loss: 0.3190 - val_mean_squared_error: 0.2616\n",
      "Epoch 7/250\n",
      "16/16 [==============================] - 0s 8ms/step - loss: 0.7017 - mean_squared_error: 1.2818 - val_loss: 0.3216 - val_mean_squared_error: 0.3113\n",
      "Epoch 8/250\n",
      "16/16 [==============================] - 0s 8ms/step - loss: 0.6188 - mean_squared_error: 1.1649 - val_loss: 0.3192 - val_mean_squared_error: 0.3128\n",
      "Epoch 9/250\n",
      "16/16 [==============================] - 0s 8ms/step - loss: 0.5213 - mean_squared_error: 0.6421 - val_loss: 0.3190 - val_mean_squared_error: 0.3129\n",
      "Epoch 10/250\n",
      "16/16 [==============================] - 0s 9ms/step - loss: 0.5117 - mean_squared_error: 0.8172 - val_loss: 0.3183 - val_mean_squared_error: 0.3122\n",
      "Epoch 11/250\n",
      "16/16 [==============================] - 0s 8ms/step - loss: 0.4547 - mean_squared_error: 0.5507 - val_loss: 0.3174 - val_mean_squared_error: 0.3122\n",
      "Epoch 12/250\n",
      "16/16 [==============================] - 0s 7ms/step - loss: 0.4911 - mean_squared_error: 0.6932 - val_loss: 0.3169 - val_mean_squared_error: 0.3121\n",
      "Epoch 13/250\n",
      "16/16 [==============================] - 0s 8ms/step - loss: 0.4838 - mean_squared_error: 0.5686 - val_loss: 0.3167 - val_mean_squared_error: 0.3141\n",
      "Epoch 14/250\n",
      "16/16 [==============================] - 0s 9ms/step - loss: 0.4753 - mean_squared_error: 0.6206 - val_loss: 0.3170 - val_mean_squared_error: 0.3155\n",
      "Epoch 15/250\n",
      "16/16 [==============================] - 0s 25ms/step - loss: 0.4660 - mean_squared_error: 0.7146 - val_loss: 0.3171 - val_mean_squared_error: 0.3165\n",
      "Epoch 16/250\n",
      "16/16 [==============================] - 0s 9ms/step - loss: 0.4557 - mean_squared_error: 0.5833 - val_loss: 0.3174 - val_mean_squared_error: 0.3171\n",
      "Epoch 17/250\n",
      "16/16 [==============================] - 0s 8ms/step - loss: 0.4297 - mean_squared_error: 0.4843 - val_loss: 0.3171 - val_mean_squared_error: 0.3170\n",
      "Epoch 18/250\n",
      "16/16 [==============================] - 0s 7ms/step - loss: 0.4100 - mean_squared_error: 0.4367 - val_loss: 0.3173 - val_mean_squared_error: 0.3166\n",
      "Epoch 19/250\n",
      "16/16 [==============================] - 0s 7ms/step - loss: 0.4103 - mean_squared_error: 0.4441 - val_loss: 0.3173 - val_mean_squared_error: 0.3167\n",
      "Epoch 20/250\n",
      "16/16 [==============================] - 0s 8ms/step - loss: 0.4157 - mean_squared_error: 0.4941 - val_loss: 0.3171 - val_mean_squared_error: 0.3170\n",
      "Epoch 21/250\n",
      "16/16 [==============================] - 0s 10ms/step - loss: 0.4537 - mean_squared_error: 0.8185 - val_loss: 0.3171 - val_mean_squared_error: 0.3170\n",
      "Epoch 22/250\n",
      "16/16 [==============================] - 0s 8ms/step - loss: 0.4252 - mean_squared_error: 0.4447 - val_loss: 0.3171 - val_mean_squared_error: 0.3170\n",
      "Epoch 23/250\n",
      "16/16 [==============================] - 0s 9ms/step - loss: 0.4175 - mean_squared_error: 0.4572 - val_loss: 0.3172 - val_mean_squared_error: 0.3169\n",
      "Epoch 24/250\n",
      "16/16 [==============================] - 0s 9ms/step - loss: 0.3950 - mean_squared_error: 0.4087 - val_loss: 0.3174 - val_mean_squared_error: 0.3166\n",
      "Epoch 25/250\n",
      "16/16 [==============================] - 0s 7ms/step - loss: 0.3947 - mean_squared_error: 0.3973 - val_loss: 0.3173 - val_mean_squared_error: 0.3169\n",
      "Epoch 26/250\n",
      "16/16 [==============================] - 0s 9ms/step - loss: 0.3736 - mean_squared_error: 0.3692 - val_loss: 0.3171 - val_mean_squared_error: 0.3171\n",
      "Epoch 26: early stopping\n"
     ]
    },
    {
     "data": {
      "text/plain": [
       "<keras.src.callbacks.History at 0x1efba7c3290>"
      ]
     },
     "execution_count": 46,
     "metadata": {},
     "output_type": "execute_result"
    }
   ],
   "source": [
    "model.fit(X_train, y_train, callbacks=stop, verbose=1, epochs=250, validation_split=0.2, batch_size=32)"
   ]
  },
  {
   "cell_type": "code",
   "execution_count": 47,
   "metadata": {},
   "outputs": [
    {
     "name": "stderr",
     "output_type": "stream",
     "text": [
      "c:\\Users\\batuy\\AppData\\Local\\Programs\\Python\\Python311\\Lib\\site-packages\\keras\\src\\engine\\training.py:3000: UserWarning: You are saving your model as an HDF5 file via `model.save()`. This file format is considered legacy. We recommend using instead the native Keras format, e.g. `model.save('my_model.keras')`.\n",
      "  saving_api.save_model(\n"
     ]
    }
   ],
   "source": [
    "model.save(\"model.h5\")"
   ]
  },
  {
   "cell_type": "code",
   "execution_count": 48,
   "metadata": {},
   "outputs": [
    {
     "name": "stdout",
     "output_type": "stream",
     "text": [
      "5/5 [==============================] - 0s 0s/step\n"
     ]
    }
   ],
   "source": [
    "y_pred = model.predict(X_test)"
   ]
  },
  {
   "cell_type": "code",
   "execution_count": 51,
   "metadata": {},
   "outputs": [],
   "source": [
    "y_pred=y_pred.astype(int)"
   ]
  },
  {
   "cell_type": "code",
   "execution_count": 55,
   "metadata": {},
   "outputs": [
    {
     "data": {
      "text/plain": [
       "154"
      ]
     },
     "execution_count": 55,
     "metadata": {},
     "output_type": "execute_result"
    }
   ],
   "source": [
    "len(y_pred)"
   ]
  },
  {
   "cell_type": "code",
   "execution_count": null,
   "metadata": {},
   "outputs": [],
   "source": []
  }
 ],
 "metadata": {
  "kernelspec": {
   "display_name": "Python 3",
   "language": "python",
   "name": "python3"
  },
  "language_info": {
   "codemirror_mode": {
    "name": "ipython",
    "version": 3
   },
   "file_extension": ".py",
   "mimetype": "text/x-python",
   "name": "python",
   "nbconvert_exporter": "python",
   "pygments_lexer": "ipython3",
   "version": "3.11.5"
  }
 },
 "nbformat": 4,
 "nbformat_minor": 2
}
